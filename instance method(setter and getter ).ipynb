{
 "cells": [
  {
   "cell_type": "markdown",
   "metadata": {},
   "source": [
    "# TYPES OF METHODS IN PYTHON\n"
   ]
  },
  {
   "cell_type": "markdown",
   "metadata": {},
   "source": [
    "Inside Python class 3 types of methods are allowed\n",
    "1. Instance Methods\n",
    "2. Class Methods\n",
    "3. Static Methods"
   ]
  },
  {
   "cell_type": "code",
   "execution_count": null,
   "metadata": {},
   "outputs": [],
   "source": [
    "1. Instance Methods:\n",
    "    \n",
    ". Inside method implementation if we are using instance variables then such type of methods are\n",
    "called instance methods.\n",
    ". Inside instance method declaration,we have to pass self variable.\n",
    "def m1(self):\n",
    ". By using \"self variable\" inside method we can able to access instance variables.\n",
    ". Within the class we can call instance method by using \"self\" variable and from outside of the class\n",
    "we can call by using \"object reference\"\n"
   ]
  },
  {
   "cell_type": "code",
   "execution_count": 7,
   "metadata": {},
   "outputs": [
    {
     "name": "stdout",
     "output_type": "stream",
     "text": [
      "Enter number of students:3\n",
      "Enter student name:abhshek\n",
      "Enter student marks45\n",
      "Hi abhshek\n",
      "Your marks are: 45\n",
      "you got third grade\n",
      "********************\n",
      "Enter student name:radhika \n",
      "Enter student marks78\n",
      "Hi radhika \n",
      "Your marks are: 78\n",
      "first grade\n",
      "********************\n",
      "Enter student name:\n",
      "Enter student marksabhimanyu\n"
     ]
    },
    {
     "ename": "ValueError",
     "evalue": "invalid literal for int() with base 10: 'abhimanyu'",
     "output_type": "error",
     "traceback": [
      "\u001b[1;31m---------------------------------------------------------------------------\u001b[0m",
      "\u001b[1;31mValueError\u001b[0m                                Traceback (most recent call last)",
      "\u001b[1;32m<ipython-input-7-6b88cc2c0ff8>\u001b[0m in \u001b[0;36m<module>\u001b[1;34m\u001b[0m\n\u001b[0;32m     18\u001b[0m \u001b[1;32mfor\u001b[0m \u001b[0mi\u001b[0m \u001b[1;32min\u001b[0m \u001b[0mrange\u001b[0m\u001b[1;33m(\u001b[0m\u001b[0mn\u001b[0m\u001b[1;33m)\u001b[0m\u001b[1;33m:\u001b[0m\u001b[1;33m\u001b[0m\u001b[1;33m\u001b[0m\u001b[0m\n\u001b[0;32m     19\u001b[0m     \u001b[0mname\u001b[0m \u001b[1;33m=\u001b[0m \u001b[0minput\u001b[0m\u001b[1;33m(\u001b[0m\u001b[1;34m'Enter student name:'\u001b[0m\u001b[1;33m)\u001b[0m     \u001b[1;31m#this loop is going to be repeated\u001b[0m\u001b[1;33m\u001b[0m\u001b[1;33m\u001b[0m\u001b[0m\n\u001b[1;32m---> 20\u001b[1;33m     \u001b[0mmarks\u001b[0m \u001b[1;33m=\u001b[0m \u001b[0mint\u001b[0m\u001b[1;33m(\u001b[0m\u001b[0minput\u001b[0m\u001b[1;33m(\u001b[0m\u001b[1;34m'Enter student marks'\u001b[0m\u001b[1;33m)\u001b[0m\u001b[1;33m)\u001b[0m\u001b[1;33m\u001b[0m\u001b[1;33m\u001b[0m\u001b[0m\n\u001b[0m\u001b[0;32m     21\u001b[0m     \u001b[0ms\u001b[0m \u001b[1;33m=\u001b[0m \u001b[0mStudent\u001b[0m\u001b[1;33m(\u001b[0m\u001b[0mname\u001b[0m\u001b[1;33m,\u001b[0m\u001b[0mmarks\u001b[0m\u001b[1;33m)\u001b[0m\u001b[1;33m\u001b[0m\u001b[1;33m\u001b[0m\u001b[0m\n\u001b[0;32m     22\u001b[0m     \u001b[0ms\u001b[0m\u001b[1;33m.\u001b[0m\u001b[0mdisplay\u001b[0m\u001b[1;33m(\u001b[0m\u001b[1;33m)\u001b[0m\u001b[1;33m\u001b[0m\u001b[1;33m\u001b[0m\u001b[0m\n",
      "\u001b[1;31mValueError\u001b[0m: invalid literal for int() with base 10: 'abhimanyu'"
     ]
    }
   ],
   "source": [
    "class Student:\n",
    "    def __init__ (self,name,marks):\n",
    "        self.name =  name  #2 instance variable name and marks\n",
    "        self.marks = marks\n",
    "    def display(self): \n",
    "        print('Hi',self.name)  #we are using instance varibles inside this method so this method is instance method\n",
    "        print('Your marks are:',self.marks)\n",
    "    def grade (self):    #\n",
    "        if self.marks>=60:\n",
    "            print('first grade')\n",
    "        elif self.marks>=50:    \n",
    "            print('second grade')\n",
    "        elif self.marks>=35:\n",
    "            print('you got third grade')\n",
    "        else:\n",
    "            print('You are failed')\n",
    "n = int(input('Enter number of students:'))  #the return type of onput function is always string.      \n",
    "for i in range(n): \n",
    "    #while(count< = n)\n",
    "    # we can use different types of loop here\n",
    "    name = input('Enter student name:')     #this loop is going to be repeated \n",
    "    marks = int(input('Enter student marks'))\n",
    "    s = Student(name,marks)  #we are calling the constructor with name and mark ra\n",
    "    s.display()\n",
    "    s.grade()\n",
    "    print('*'*20)\n",
    "    #count++\n",
    "    \n",
    "    \n",
    "    \n",
    "    #\n",
    "            "
   ]
  },
  {
   "cell_type": "code",
   "execution_count": null,
   "metadata": {},
   "outputs": [],
   "source": []
  },
  {
   "cell_type": "code",
   "execution_count": null,
   "metadata": {},
   "outputs": [],
   "source": []
  },
  {
   "cell_type": "code",
   "execution_count": null,
   "metadata": {},
   "outputs": [],
   "source": [
    "#Setter and Getter Methods:\n",
    "We can set and get the values of instance variables by using getter and setter methods.\n",
    "we are using setter method to set the data for the object and getter method to get the data feom the object\n",
    "#Setter Method:\n",
    "setter methods can be used to set values to the instance variables. setter methods also known as\n",
    "mutator methods.\n",
    ". data security is the main purposr of getter and setter method, we can validate data\n",
    ". to retrive the data we use getter and setter method\n",
    ". these are not in built methods, we have to initialize\n"
   ]
  },
  {
   "cell_type": "code",
   "execution_count": null,
   "metadata": {},
   "outputs": [],
   "source": [
    "syntax:\n",
    "def setVariableName(self,variableName):   #name \n",
    "self.variableName=variableName"
   ]
  },
  {
   "cell_type": "code",
   "execution_count": null,
   "metadata": {},
   "outputs": [
    {
     "name": "stdout",
     "output_type": "stream",
     "text": [
      "Enter number of students:2\n",
      "Enter student name:ashirbaad\n",
      "Enter student marks44\n",
      "Hi ashirbaad\n",
      "Your Marks are: 44\n",
      "********************\n"
     ]
    }
   ],
   "source": [
    "class Student:\n",
    "    def setName(self,name):    #setter method to set the name\n",
    "        self.name = name\n",
    "    def getName(self):         #getter method to get the names \n",
    "        return self.name\n",
    "    def setMarks(self,marks):  #setter method to set the marks\n",
    "        self.marks = marks\n",
    "    def getMarks(self):\n",
    "        return self.marks      #getter method to get the marks \n",
    "n = int(input('Enter number of students:'))        \n",
    "for i in range(n): \n",
    "    name = input('Enter student name:')     #this loop is going to be repeated \n",
    "    marks = int(input('Enter student marks'))    \n",
    "    s=Student()          #object created\n",
    "    s.setName(name)   #setter method \n",
    "    s.setMarks(marks)\n",
    "    \n",
    "    print('Hi',s.getName())\n",
    "    print('Your Marks are:',s.getMarks())\n",
    "    print('*'*20)\n",
    "    \n",
    "    \n",
    "    \n",
    "    \n",
    "    #for every name we have to use setter and getter method separetly "
   ]
  },
  {
   "cell_type": "code",
   "execution_count": null,
   "metadata": {},
   "outputs": [],
   "source": [
    "print(s.name)  #direct access , no security\n",
    "print(s.getName())   # security access \n",
    "\n",
    "#hiding data behind methods ==> encapsulations \n",
    "\n",
    "\n"
   ]
  },
  {
   "cell_type": "code",
   "execution_count": null,
   "metadata": {},
   "outputs": [],
   "source": []
  },
  {
   "cell_type": "code",
   "execution_count": null,
   "metadata": {},
   "outputs": [],
   "source": [
    "#Getter Method:\n",
    "Getter methods can be used to get values of the instance variables. Getter methods also known as\n",
    "accessor methods.\n",
    "\n"
   ]
  },
  {
   "cell_type": "code",
   "execution_count": null,
   "metadata": {},
   "outputs": [],
   "source": [
    "syntax:\n",
    "def getVariable(self):\n",
    "return self.variable"
   ]
  },
  {
   "cell_type": "code",
   "execution_count": null,
   "metadata": {},
   "outputs": [],
   "source": []
  },
  {
   "cell_type": "code",
   "execution_count": null,
   "metadata": {},
   "outputs": [],
   "source": []
  },
  {
   "cell_type": "code",
   "execution_count": null,
   "metadata": {},
   "outputs": [],
   "source": []
  }
 ],
 "metadata": {
  "kernelspec": {
   "display_name": "Python 3",
   "language": "python",
   "name": "python3"
  },
  "language_info": {
   "codemirror_mode": {
    "name": "ipython",
    "version": 3
   },
   "file_extension": ".py",
   "mimetype": "text/x-python",
   "name": "python",
   "nbconvert_exporter": "python",
   "pygments_lexer": "ipython3",
   "version": "3.7.6"
  }
 },
 "nbformat": 4,
 "nbformat_minor": 4
}
