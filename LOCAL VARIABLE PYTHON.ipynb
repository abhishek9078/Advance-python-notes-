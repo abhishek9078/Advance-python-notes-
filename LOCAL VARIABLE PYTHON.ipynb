{
 "cells": [
  {
   "cell_type": "markdown",
   "metadata": {},
   "source": [
    "# Local variablaes in python "
   ]
  },
  {
   "cell_type": "code",
   "execution_count": null,
   "metadata": {},
   "outputs": [],
   "source": [
    "To meet temporary requirements of programmer,we can declare variables inside a\n",
    "method directly,such type of variables are called local variable or temporary variables.\n",
    "Local variables will be created at the time of method execution and destroyed once method\n",
    "completes.\n",
    "Local variables of a method cannot be accessed from outside of method."
   ]
  },
  {
   "cell_type": "code",
   "execution_count": null,
   "metadata": {},
   "outputs": [],
   "source": [
    "Local variables can only be reached in their scope.\n",
    "The example below has two local variables: x and y"
   ]
  },
  {
   "cell_type": "code",
   "execution_count": 6,
   "metadata": {},
   "outputs": [
    {
     "name": "stdout",
     "output_type": "stream",
     "text": [
      "34\n"
     ]
    }
   ],
   "source": [
    "def sum(x,y):\n",
    "    sum = x - y\n",
    "    return sum\n",
    "\n",
    "print(sum(40,6))"
   ]
  },
  {
   "cell_type": "code",
   "execution_count": null,
   "metadata": {},
   "outputs": [],
   "source": [
    "The variables x and y can only be used inside the function sum, they don’t exist outside of the function.\n",
    "Local variables cannot be used outside of their scope, this line will not work"
   ]
  },
  {
   "cell_type": "code",
   "execution_count": null,
   "metadata": {},
   "outputs": [],
   "source": [
    "A global variable can be used anywhere in the code.\n",
    "In the example below we define a global variable z\n"
   ]
  },
  {
   "cell_type": "code",
   "execution_count": 10,
   "metadata": {
    "scrolled": true
   },
   "outputs": [
    {
     "name": "stdout",
     "output_type": "stream",
     "text": [
      "200\n",
      "200\n"
     ]
    }
   ],
   "source": [
    "z = 200\n",
    "\n",
    "def afunction():\n",
    "    global z\n",
    "    print(z)\n",
    "\n",
    "afunction()\n",
    "print(z)"
   ]
  },
  {
   "cell_type": "code",
   "execution_count": null,
   "metadata": {},
   "outputs": [],
   "source": [
    "The global variable z can be used all throughout the program, inside functions or outside.\n",
    "A global variable can modified inside a function and change for the entire program"
   ]
  },
  {
   "cell_type": "code",
   "execution_count": 11,
   "metadata": {},
   "outputs": [
    {
     "name": "stdout",
     "output_type": "stream",
     "text": [
      "11\n"
     ]
    }
   ],
   "source": [
    "z = 10\n",
    "\n",
    "def afunction():\n",
    "    global z\n",
    "    z = 11\n",
    "\n",
    "afunction()\n",
    "print(z)"
   ]
  },
  {
   "cell_type": "code",
   "execution_count": null,
   "metadata": {},
   "outputs": [],
   "source": [
    "After calling afunction(), the global variable is changed for the entire program."
   ]
  },
  {
   "cell_type": "code",
   "execution_count": null,
   "metadata": {},
   "outputs": [],
   "source": []
  }
 ],
 "metadata": {
  "kernelspec": {
   "display_name": "Python 3",
   "language": "python",
   "name": "python3"
  },
  "language_info": {
   "codemirror_mode": {
    "name": "ipython",
    "version": 3
   },
   "file_extension": ".py",
   "mimetype": "text/x-python",
   "name": "python",
   "nbconvert_exporter": "python",
   "pygments_lexer": "ipython3",
   "version": "3.7.6"
  }
 },
 "nbformat": 4,
 "nbformat_minor": 4
}
