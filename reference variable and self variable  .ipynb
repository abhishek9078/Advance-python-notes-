{
 "cells": [
  {
   "cell_type": "code",
   "execution_count": null,
   "metadata": {},
   "outputs": [],
   "source": [
    "Referrence variablae \n",
    "Blue print is the class\n",
    "physical existence of the class is object.(example of tv )\n",
    "A Python program accesses data values through references. \n",
    "A reference is a name that refers to the specific location in memory of a value (object). \n",
    "References take the form of variables, attributes, and items. In Python, a variable or other reference has no intrinsic type. "
   ]
  },
  {
   "cell_type": "code",
   "execution_count": null,
   "metadata": {},
   "outputs": [],
   "source": [
    "class student:\n",
    "     def_init_(rollno,marks)             #class to  object => one to many \n",
    "        self.name=name                             #object to referrence => one to one or one to many\n",
    "         self.rollno=rollno\n",
    "         self.marks=mark          \n",
    "        # above are properties , n number of properties we can perform\n",
    "        def talk(self):          #operations . read talk sleep\n",
    "        print(\"Hello My Name is:\",self.name)\n",
    "            print(\"My Rollno is:\",self.rollno)\n",
    "            print(\"My Marks are:\",self.marks)    \n",
    "              # aboave are the operations \n",
    "       # this total part is a class\n",
    "    \n",
    "    #any  number of objects we can creat for the above class \n",
    "s = student(\"Abhishek\"10,50)\n",
    "s.talk()\n",
    "    #every student having these properties and methods\n",
    "    #object is student , s is the referrence variable \n",
    "    #by using s rv we can perform this tasks "
   ]
  },
  {
   "cell_type": "code",
   "execution_count": null,
   "metadata": {},
   "outputs": [],
   "source": []
  },
  {
   "cell_type": "code",
   "execution_count": null,
   "metadata": {},
   "outputs": [],
   "source": []
  },
  {
   "cell_type": "code",
   "execution_count": null,
   "metadata": {},
   "outputs": [],
   "source": [
    "self variable ....\n",
    "\n",
    "self is the default variable which is always pointing to current object.\n",
    "By using self we can access instance variables and instance methods of object.\n",
    "\n",
    "Its the first parameter inside the constructor\n",
    "It is the first parameter inside the instance method.\n",
    "\n",
    "In object-oriented programming, whenever we define methods for a class, we use self as the first parameter in each case."
   ]
  },
  {
   "cell_type": "code",
   "execution_count": 31,
   "metadata": {},
   "outputs": [],
   "source": [
    "class Cat:\n",
    "    def __init__(self, name, age):\n",
    "        self.name = name\n",
    "        self.age = age\n",
    "\n",
    "    def info(self):\n",
    "        print(f\"I am a cat. My name is {self.name}. I am {self.age} years old.\")\n",
    "\n",
    "    def make_sound(self):\n",
    "        print(\"Meow\")\n",
    "        cat1 = Cat('Andy', 2)\n",
    "        cat2 = Cat('Phoebe', 3)"
   ]
  },
  {
   "cell_type": "code",
   "execution_count": null,
   "metadata": {},
   "outputs": [],
   "source": [
    "In this case all the methods, including __init__, have the first parameter as self.\n",
    "\n",
    "We know that class is a blueprint for the objects. \n",
    "This blueprint can be used to create multiple numbers of objects.\n",
    "\n",
    "However, since the class is just a blueprint, self allows access to the attributes and methods of each object in python. \n",
    "This allows each object to have their own attributes and methods. Thus, even long before creating these objects, we reference the objects as self while defining the class.\n",
    "\n"
   ]
  }
 ],
 "metadata": {
  "kernelspec": {
   "display_name": "Python 3",
   "language": "python",
   "name": "python3"
  },
  "language_info": {
   "codemirror_mode": {
    "name": "ipython",
    "version": 3
   },
   "file_extension": ".py",
   "mimetype": "text/x-python",
   "name": "python",
   "nbconvert_exporter": "python",
   "pygments_lexer": "ipython3",
   "version": "3.7.6"
  }
 },
 "nbformat": 4,
 "nbformat_minor": 4
}
