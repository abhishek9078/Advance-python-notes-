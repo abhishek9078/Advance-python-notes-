{
 "cells": [
  {
   "cell_type": "markdown",
   "metadata": {},
   "source": [
    "# yield\n",
    "yield is a keyword in Python that is used to return from a function without destroying the states of its local variable and when the function is called, \n",
    "the execution starts from the last yield statement. \n",
    "Any function that contains a yield keyword is termed as generator. Hence, yield is what makes a generator. \n",
    "yield keyword in Python is less known off but has a greater utility which one can think of."
   ]
  },
  {
   "cell_type": "code",
   "execution_count": 1,
   "metadata": {},
   "outputs": [
    {
     "name": "stdout",
     "output_type": "stream",
     "text": [
      "The original list is : [1, 4, 5, 6, 7]\n",
      "The even numbers in list are :  4 6 "
     ]
    }
   ],
   "source": [
    "# Python3 code to demonstrate  \n",
    "# yield keyword \n",
    "  \n",
    "# generator to print even numbers \n",
    "def print_even(test_list) : \n",
    "    for i in test_list: \n",
    "        if i % 2 == 0: \n",
    "            yield i \n",
    "  \n",
    "# initializing list  \n",
    "test_list = [1, 4, 5, 6, 7] \n",
    "  \n",
    "# printing initial list \n",
    "print (\"The original list is : \" +  str(test_list)) \n",
    "  \n",
    "# printing even numbers  \n",
    "print (\"The even numbers in list are : \", end = \" \") \n",
    "for j in print_even(test_list): \n",
    "    print (j, end = \" \") "
   ]
  },
  {
   "cell_type": "code",
   "execution_count": 2,
   "metadata": {},
   "outputs": [
    {
     "name": "stdout",
     "output_type": "stream",
     "text": [
      "1\n",
      "4\n",
      "9\n",
      "16\n",
      "25\n",
      "36\n",
      "49\n",
      "64\n",
      "81\n",
      "100\n"
     ]
    }
   ],
   "source": [
    "# A Python program to generate squares from 1  \n",
    "# to 100 using yield and therefore generator  \n",
    "  \n",
    "# An infinite generator function that prints  \n",
    "# next square number. It starts with 1  \n",
    "def nextSquare():  \n",
    "    i = 1;  \n",
    "  \n",
    "    # An Infinite loop to generate squares  \n",
    "    while True:  \n",
    "        yield i*i                  \n",
    "        i += 1 # Next execution resumes  \n",
    "                # from this point      \n",
    "  \n",
    "# Driver code  \n",
    "for num in nextSquare():  \n",
    "    if num > 100:  \n",
    "        break    \n",
    "    print(num)  "
   ]
  },
  {
   "cell_type": "code",
   "execution_count": null,
   "metadata": {},
   "outputs": [],
   "source": [
    "Advantages of yield:\n",
    "\n",
    "Since it stores the local variable states, hence overhead of memory allocation is controlled.\n",
    "Since the old state is retained, flow doesn’t start from the beginnning and hence saves time.\n",
    "\n",
    "Disadvantages of yield:\n",
    "\n",
    "Sometimes, the use of yield becomes erroneous is calling of function is not handled properly.\n",
    "The time and memory optimization has a cost of complexity of code and hence sometimes hard to understand logic behind it.\n",
    "\n",
    "Practical Applications:\n",
    "The possible practical application is that when handling the last amount of data and searching particulars from it, \n",
    "yield can be used as we don’t need to lookup again from start and hence would save time. \n",
    "There can possibly be many application of yield depending upon the use cases."
   ]
  },
  {
   "cell_type": "code",
   "execution_count": 3,
   "metadata": {},
   "outputs": [
    {
     "ename": "SyntaxError",
     "evalue": "EOL while scanning string literal (<ipython-input-3-c64a671db5a2>, line 13)",
     "output_type": "error",
     "traceback": [
      "\u001b[1;36m  File \u001b[1;32m\"<ipython-input-3-c64a671db5a2>\"\u001b[1;36m, line \u001b[1;32m13\u001b[0m\n\u001b[1;33m    test_string = \" The are many geeks around you, \\\u001b[0m\n\u001b[1;37m                                                     ^\u001b[0m\n\u001b[1;31mSyntaxError\u001b[0m\u001b[1;31m:\u001b[0m EOL while scanning string literal\n"
     ]
    }
   ],
   "source": [
    "\n",
    "# Python3 code to demonstrate yield keyword \n",
    "  \n",
    "# Checking number of occurrence of  \n",
    "# geeks in string  \n",
    "  \n",
    "# generator to print even numbers \n",
    "def print_even(test_string) : \n",
    "    for i in test_string: \n",
    "        if i == \"geeks\": \n",
    "            yield i \n",
    "  \n",
    "# initializing string \n",
    "test_string = \" The are many geeks around you, \\ \n",
    "              geeks are known for teaching other geeks\" \n",
    "  \n",
    "# printing even numbers using yield \n",
    "count = 0\n",
    "print (\"The number of geeks in string is : \", end = \"\" ) \n",
    "test_string = test_string.split() \n",
    "  \n",
    "for j in print_even(test_string): \n",
    "    count = count + 1\n",
    "  \n",
    "print (count) "
   ]
  },
  {
   "cell_type": "code",
   "execution_count": null,
   "metadata": {},
   "outputs": [],
   "source": []
  },
  {
   "cell_type": "code",
   "execution_count": null,
   "metadata": {},
   "outputs": [],
   "source": []
  },
  {
   "cell_type": "code",
   "execution_count": null,
   "metadata": {},
   "outputs": [],
   "source": []
  },
  {
   "cell_type": "code",
   "execution_count": null,
   "metadata": {},
   "outputs": [],
   "source": []
  }
 ],
 "metadata": {
  "kernelspec": {
   "display_name": "Python 3",
   "language": "python",
   "name": "python3"
  },
  "language_info": {
   "codemirror_mode": {
    "name": "ipython",
    "version": 3
   },
   "file_extension": ".py",
   "mimetype": "text/x-python",
   "name": "python",
   "nbconvert_exporter": "python",
   "pygments_lexer": "ipython3",
   "version": "3.7.6"
  }
 },
 "nbformat": 4,
 "nbformat_minor": 4
}
