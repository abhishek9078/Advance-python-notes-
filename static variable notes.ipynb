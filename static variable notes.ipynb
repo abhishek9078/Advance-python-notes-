{
 "cells": [
  {
   "cell_type": "markdown",
   "metadata": {},
   "source": [
    "1. Static variables:\n",
    " .If the value of a variable is not varied from object to object, such type of variables we have to\n",
    "declare with in the class directly but outside of methods. Such type of variables are called Static\n",
    "variables.\n",
    " .For total class only one copy of static variable will be created and shared by all objects of that\n",
    "class.\n",
    " . We can access static variables either by class name or by object reference. But recommended to\n",
    "use class name.\n",
    "\n",
    "students name, roll number , teacher \n"
   ]
  },
  {
   "cell_type": "markdown",
   "metadata": {},
   "source": [
    "2.Instance Variable vs Static Variable:\n",
    ":for every object a seperate copy will be created,but in the\n",
    "case of static variables for total class only one copy will be created and shared by every object of\n",
    "that class.\n",
    "100 students ==>> system, pen, headset, notes \n",
    "             ==>>teacher"
   ]
  },
  {
   "cell_type": "code",
   "execution_count": 9,
   "metadata": {},
   "outputs": [
    {
     "ename": "AttributeError",
     "evalue": "type object 'Student' has no attribute 'cname'",
     "output_type": "error",
     "traceback": [
      "\u001b[1;31m---------------------------------------------------------------------------\u001b[0m",
      "\u001b[1;31mAttributeError\u001b[0m                            Traceback (most recent call last)",
      "\u001b[1;32m<ipython-input-9-d9424b895755>\u001b[0m in \u001b[0;36m<module>\u001b[1;34m\u001b[0m\n\u001b[0;32m      8\u001b[0m \u001b[0ms2\u001b[0m \u001b[1;33m=\u001b[0m \u001b[0mStudent\u001b[0m \u001b[1;33m(\u001b[0m\u001b[1;34m\"Anubha\"\u001b[0m\u001b[1;33m,\u001b[0m\u001b[1;36m102\u001b[0m\u001b[1;33m)\u001b[0m\u001b[1;33m\u001b[0m\u001b[1;33m\u001b[0m\u001b[0m\n\u001b[0;32m      9\u001b[0m \u001b[1;33m\u001b[0m\u001b[0m\n\u001b[1;32m---> 10\u001b[1;33m \u001b[0mprint\u001b[0m\u001b[1;33m(\u001b[0m\u001b[0ms1\u001b[0m\u001b[1;33m.\u001b[0m\u001b[0mname\u001b[0m\u001b[1;33m,\u001b[0m\u001b[0ms1\u001b[0m\u001b[1;33m.\u001b[0m\u001b[0mrollno\u001b[0m\u001b[1;33m,\u001b[0m\u001b[0mStudent\u001b[0m\u001b[1;33m.\u001b[0m\u001b[0mcname\u001b[0m\u001b[1;33m)\u001b[0m\u001b[1;33m\u001b[0m\u001b[1;33m\u001b[0m\u001b[0m\n\u001b[0m\u001b[0;32m     11\u001b[0m \u001b[0mprint\u001b[0m\u001b[1;33m(\u001b[0m\u001b[0ms2\u001b[0m\u001b[1;33m.\u001b[0m\u001b[0mname\u001b[0m\u001b[1;33m,\u001b[0m\u001b[0ms2\u001b[0m\u001b[1;33m.\u001b[0m\u001b[0mrollno\u001b[0m\u001b[1;33m,\u001b[0m\u001b[0mStudent\u001b[0m\u001b[1;33m.\u001b[0m\u001b[0mcname\u001b[0m\u001b[1;33m)\u001b[0m\u001b[1;33m\u001b[0m\u001b[1;33m\u001b[0m\u001b[0m\n\u001b[0;32m     12\u001b[0m \u001b[1;33m\u001b[0m\u001b[0m\n",
      "\u001b[1;31mAttributeError\u001b[0m: type object 'Student' has no attribute 'cname'"
     ]
    }
   ],
   "source": [
    "class Student:\n",
    "    cnam ='bput'   #static\n",
    "    def __init__ (self,name,rollno):\n",
    "        self.name = name      #instance \n",
    "        self.rollno = rollno\n",
    "        \n",
    "s1 = Student (\"Abhishsek\",101)  #2 student object\n",
    "s2 = Student (\"Anubha\",102)\n",
    "\n",
    "print(s1.name,s1.rollno,Student.cname)\n",
    "print(s2.name,s2.rollno,Student.cname)\n",
    "\n",
    "\n",
    "        "
   ]
  },
  {
   "cell_type": "code",
   "execution_count": null,
   "metadata": {},
   "outputs": [],
   "source": [
    "#Various places werer we can declare static variable#\n",
    "\n",
    "1. In general we can declare within the class directly but from outside of anymethod\n",
    "2. Inside constructor by using class name\n",
    "3. Inside instance method by using class name\n",
    "4. Inside classmethod by using either class name or cls variable\n",
    "5. Inside static method by using class name\n"
   ]
  },
  {
   "cell_type": "code",
   "execution_count": 14,
   "metadata": {},
   "outputs": [
    {
     "ename": "SyntaxError",
     "evalue": "invalid syntax (<ipython-input-14-13a59f8055bd>, line 16)",
     "output_type": "error",
     "traceback": [
      "\u001b[1;36m  File \u001b[1;32m\"<ipython-input-14-13a59f8055bd>\"\u001b[1;36m, line \u001b[1;32m16\u001b[0m\n\u001b[1;33m    print(Test.__ dict__)\u001b[0m\n\u001b[1;37m                       ^\u001b[0m\n\u001b[1;31mSyntaxError\u001b[0m\u001b[1;31m:\u001b[0m invalid syntax\n"
     ]
    }
   ],
   "source": [
    " class Test:\n",
    "    a=10\n",
    "    def __init__(self):\n",
    "        #print(Test.a)\n",
    "        #print(self.a)\n",
    "        Test.b=20\n",
    "    def m1(self):\n",
    "        Test.c=30\n",
    "    @classmethod\n",
    "    def m2(cls):\n",
    "        cls.d1=40\n",
    "        Test.d2=400\n",
    "    @staticmethod\n",
    "    def m3():\n",
    "        Test.e=50\n",
    "print(Test__dict__)\n",
    " t=Test()\n",
    "print(Test.__ dict__)\n",
    " t.m1()\n",
    "print(Test.__ dict__)\n",
    " Test.m2()\n",
    "print(Test.__dict__)\n",
    " Test.m3()\n",
    "print(Test.__dict__)\n",
    " Test.f=60\n",
    "print(Test.__dict__)"
   ]
  },
  {
   "cell_type": "code",
   "execution_count": null,
   "metadata": {},
   "outputs": [],
   "source": [
    "Accessing static variables \n",
    "\n",
    "1.inside constructor: by using either self or classname\n",
    "2. inside instance method: by using either self or classname\n",
    "3. inside class method: by using either cls variable or classname\n",
    "4. inside static method: by using classname\n",
    "5. From outside of class: by using either object reference or classnmae"
   ]
  },
  {
   "cell_type": "markdown",
   "metadata": {},
   "source": [
    "Within the clsass--  \n",
    "classname,self,cls\n",
    "\n",
    "outside the class--\n",
    "object referrrence classname \n"
   ]
  },
  {
   "cell_type": "code",
   "execution_count": 25,
   "metadata": {
    "scrolled": true
   },
   "outputs": [
    {
     "name": "stdout",
     "output_type": "stream",
     "text": [
      "inside constructor\n",
      "10\n",
      "10\n"
     ]
    },
    {
     "data": {
      "text/plain": [
       "<bound method Test.m2 of <class '__main__.Test'>>"
      ]
     },
     "execution_count": 25,
     "metadata": {},
     "output_type": "execute_result"
    }
   ],
   "source": [
    "#inside constructor , inside instant method\n",
    "class  Test:\n",
    "    a = 10\n",
    "    def __init__ (self):\n",
    "        print('inside constructor')\n",
    "        print(Test.a)\n",
    "        print(self.a)\n",
    "    def m1(self):\n",
    "        print('inside instant method')\n",
    "        print(Test.a)\n",
    "        print(self.a)\n",
    "        \n",
    "    @classmethod\n",
    "    def m2(cls):\n",
    "        print('inside classmethod')\n",
    "        print(Test.a)\n",
    "        print(cls.a)\n",
    "t = Test()        \n",
    "t.m1       \n",
    "t.m2\n",
    "        "
   ]
  },
  {
   "cell_type": "code",
   "execution_count": null,
   "metadata": {},
   "outputs": [],
   "source": [
    "class Test:\n",
    "    a = 10\n",
    "    def __init__(self):"
   ]
  },
  {
   "cell_type": "code",
   "execution_count": null,
   "metadata": {},
   "outputs": [],
   "source": []
  },
  {
   "cell_type": "code",
   "execution_count": null,
   "metadata": {},
   "outputs": [],
   "source": []
  },
  {
   "cell_type": "code",
   "execution_count": null,
   "metadata": {},
   "outputs": [],
   "source": [
    "Modifying staic variable\n",
    "outside of class we can modify by using classname.\n",
    "But inside class method,class name or cls variable."
   ]
  },
  {
   "cell_type": "code",
   "execution_count": 18,
   "metadata": {},
   "outputs": [
    {
     "name": "stdout",
     "output_type": "stream",
     "text": [
      "20\n"
     ]
    }
   ],
   "source": [
    "class Test:\n",
    "    a = 20\n",
    "    def __init__(self):\n",
    "        self.a = 10\n",
    "t = Test()\n",
    "print(Test.a)\n",
    "#print(t.a)"
   ]
  },
  {
   "cell_type": "code",
   "execution_count": null,
   "metadata": {},
   "outputs": [],
   "source": []
  },
  {
   "cell_type": "code",
   "execution_count": null,
   "metadata": {},
   "outputs": [],
   "source": []
  }
 ],
 "metadata": {
  "kernelspec": {
   "display_name": "Python 3",
   "language": "python",
   "name": "python3"
  },
  "language_info": {
   "codemirror_mode": {
    "name": "ipython",
    "version": 3
   },
   "file_extension": ".py",
   "mimetype": "text/x-python",
   "name": "python",
   "nbconvert_exporter": "python",
   "pygments_lexer": "ipython3",
   "version": "3.7.6"
  }
 },
 "nbformat": 4,
 "nbformat_minor": 4
}
