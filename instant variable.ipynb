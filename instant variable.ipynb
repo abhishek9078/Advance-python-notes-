{
 "cells": [
  {
   "cell_type": "markdown",
   "metadata": {},
   "source": [
    "# Types of variable in python \n",
    "Inside Python class 3 types of variables are allowed.\n",
    "1. Instance Variables (Object Level Variables)\n",
    "    2. Static Variables (Class Level Variables)\n",
    "3. Local variables (Method Level Variables) \n"
   ]
  },
  {
   "cell_type": "markdown",
   "metadata": {},
   "source": [
    "1> Instance variable\n",
    "   .If the value of a object is variedfrom object to object then such types of variable are instance variable\n",
    "     (number of students , number of names and number f rollno )\n",
    "   .for everyobject a separate copy is created .."
   ]
  },
  {
   "cell_type": "code",
   "execution_count": null,
   "metadata": {},
   "outputs": [],
   "source": [
    "Where we can declare instance variables\n",
    "\n",
    " 1. Inside Constructor by using self variable\n",
    " 2. Inside Instance Method by using self variable\n",
    " 3. Outside of the class by using object reference variable"
   ]
  },
  {
   "cell_type": "code",
   "execution_count": null,
   "metadata": {},
   "outputs": [],
   "source": [
    " 1.inside constructor using self variable "
   ]
  },
  {
   "cell_type": "code",
   "execution_count": 10,
   "metadata": {
    "scrolled": true
   },
   "outputs": [
    {
     "name": "stdout",
     "output_type": "stream",
     "text": [
      "Hello My Name is: abhishek\n",
      "My Rollno is: 123\n",
      "Hello My Name is: deepika\n",
      "My Rollno is: 456\n",
      "Hello My Name is: arundhati\n",
      "My Rollno is: 789\n"
     ]
    }
   ],
   "source": [
    "class student :\n",
    "    def __init__(self,name,rollno): \n",
    "               #inside bracket variables are not standard variables\n",
    "               #self.name and roll number are ionstance variablaes (declared inside the constructor)\n",
    "        self.name = name\n",
    "        self.rollno = rollno \n",
    "        \n",
    "    def talk(self):\n",
    "        print(\"Hello My Name is:\",self.name)\n",
    "        print(\"My Rollno is:\",self.rollno)\n",
    "\n",
    "          #student object 3 studenet object, 3 names , 3 roll no .   \n",
    "          #If the value of a object is variedfrom object to object then such types of variable are instance variable\n",
    "          #3 separate copy for 3 object is created \n",
    "s1 = student(\"abhishek\", 123)    \n",
    "s2 = student(\"deepika\",456)\n",
    "s3 = student(\"arundhati\",789)\n",
    "s1.talk()\n",
    "s2.talk()\n",
    "s3.talk()\n",
    "\n",
    "\n"
   ]
  },
  {
   "cell_type": "code",
   "execution_count": null,
   "metadata": {},
   "outputs": [],
   "source": [
    "inside constructor by using self\n"
   ]
  },
  {
   "cell_type": "code",
   "execution_count": 13,
   "metadata": {
    "scrolled": true
   },
   "outputs": [
    {
     "ename": "SyntaxError",
     "evalue": "invalid syntax (<ipython-input-13-95d55f7afa04>, line 3)",
     "output_type": "error",
     "traceback": [
      "\u001b[1;36m  File \u001b[1;32m\"<ipython-input-13-95d55f7afa04>\"\u001b[1;36m, line \u001b[1;32m3\u001b[0m\n\u001b[1;33m    Class Student:\u001b[0m\n\u001b[1;37m                ^\u001b[0m\n\u001b[1;31mSyntaxError\u001b[0m\u001b[1;31m:\u001b[0m invalid syntax\n"
     ]
    }
   ],
   "source": [
    "#2.Inside Instance Method by using self variable\n",
    "\n",
    "Class Student:\n",
    "    def__init__(self,name,rollno):\n",
    "        self.name = name \n",
    "        self.rollno = rollno\n",
    "    def info(self):\n",
    "        self.mark = 60\n",
    "       #mark = 60 local variable \n",
    "s1 = Student(\"Abhishek,123)\n",
    "print(s1.__dict__)"
   ]
  },
  {
   "cell_type": "code",
   "execution_count": null,
   "metadata": {},
   "outputs": [],
   "source": [
    "if a variable is declared as self then it is a instance variable. \n",
    "variables declared without self are known as local variables though it may be declared in info method\n",
    "    "
   ]
  },
  {
   "cell_type": "code",
   "execution_count": null,
   "metadata": {},
   "outputs": [],
   "source": []
  },
  {
   "cell_type": "code",
   "execution_count": null,
   "metadata": {},
   "outputs": [],
   "source": [
    "above two methods are inside class "
   ]
  },
  {
   "cell_type": "code",
   "execution_count": null,
   "metadata": {},
   "outputs": [],
   "source": [
    "3. Outside of the class by using object reference variable:"
   ]
  },
  {
   "cell_type": "code",
   "execution_count": null,
   "metadata": {},
   "outputs": [],
   "source": [
    " "
   ]
  },
  {
   "cell_type": "code",
   "execution_count": null,
   "metadata": {},
   "outputs": [],
   "source": []
  },
  {
   "cell_type": "code",
   "execution_count": null,
   "metadata": {},
   "outputs": [],
   "source": []
  },
  {
   "cell_type": "code",
   "execution_count": null,
   "metadata": {},
   "outputs": [],
   "source": [
    "How to access Instance variables:\n",
    "    "
   ]
  },
  {
   "cell_type": "code",
   "execution_count": null,
   "metadata": {},
   "outputs": [],
   "source": [
    "The variables that are defined outside the class can be accessed by any class or any methods in the class\n",
    "by just writing the variable name."
   ]
  },
  {
   "cell_type": "code",
   "execution_count": 14,
   "metadata": {},
   "outputs": [
    {
     "name": "stdout",
     "output_type": "stream",
     "text": [
      "Outside_class1 outside_class\n",
      "Outside_class2 outside_class\n",
      "Outside_class3 outside_class\n",
      "Outside_class4 outside_class\n",
      "Outside_class5 outside_class\n"
     ]
    }
   ],
   "source": [
    " #Program to demonstrate 'Variable  \n",
    " #defined outside the class' \n",
    "  \n",
    " #Variable defined outside the class. \n",
    "outVar = 'outside_class'    \n",
    "print(\"Outside_class1\", outVar) \n",
    "  \n",
    "''' Class one '''\n",
    "class Geek: \n",
    "    print(\"Outside_class2\", outVar) \n",
    "  \n",
    "    def access_method(self): \n",
    "        print(\"Outside_class3\", outVar) \n",
    "  \n",
    " #Calling method by creating object \n",
    "uac = Geek() \n",
    "uac.access_method() \n",
    "  \n",
    "''' Class two '''\n",
    "class Another_Geek_class: \n",
    "    print(\"Outside_class4\", outVar)  \n",
    "  \n",
    "    def another_access_method(self): \n",
    "        print(\"Outside_class5\", outVar) \n",
    "  \n",
    " #Calling method by creating object \n",
    "uaac = Another_Geek_class() \n",
    "uaac.another_access_method()\n"
   ]
  },
  {
   "cell_type": "code",
   "execution_count": null,
   "metadata": {},
   "outputs": [],
   "source": []
  },
  {
   "cell_type": "code",
   "execution_count": null,
   "metadata": {},
   "outputs": [],
   "source": [
    "How to delete instance variable from the object:\n",
    "    \n",
    "1. Within a class we can delete instance variable asfollows\n",
    "del self.variableName\n",
    "2. From outside of class we can delete instance variables asfollows\n",
    "del objectreference.variableName    \n",
    "    \n",
    "    "
   ]
  },
  {
   "cell_type": "code",
   "execution_count": null,
   "metadata": {},
   "outputs": [],
   "source": [
    "class Test:\n",
    "    def init (self):\n",
    "        self.a = 10\n",
    "        self.b = 20\n",
    "        self.c = 30\n",
    "        self.d = 40\n",
    "    def m1(self):\n",
    "        del self.d\n",
    "t = Test()\n",
    "Print(t.dict)\n",
    "        \n",
    "        "
   ]
  },
  {
   "cell_type": "code",
   "execution_count": null,
   "metadata": {},
   "outputs": [],
   "source": []
  },
  {
   "cell_type": "code",
   "execution_count": null,
   "metadata": {},
   "outputs": [],
   "source": []
  },
  {
   "cell_type": "code",
   "execution_count": null,
   "metadata": {},
   "outputs": [],
   "source": []
  },
  {
   "cell_type": "code",
   "execution_count": 17,
   "metadata": {},
   "outputs": [
    {
     "ename": "SyntaxError",
     "evalue": "invalid syntax (<ipython-input-17-355622035aa9>, line 1)",
     "output_type": "error",
     "traceback": [
      "\u001b[1;36m  File \u001b[1;32m\"<ipython-input-17-355622035aa9>\"\u001b[1;36m, line \u001b[1;32m1\u001b[0m\n\u001b[1;33m    Class Student :\u001b[0m\n\u001b[1;37m                ^\u001b[0m\n\u001b[1;31mSyntaxError\u001b[0m\u001b[1;31m:\u001b[0m invalid syntax\n"
     ]
    }
   ],
   "source": [
    "Class Student:\n",
    "    def__init__(self,name,rollno):\n",
    "        self.name = name \n",
    "        self.rollno = rollno\n",
    "    def info(self):\n",
    "        self.marks = 60\n",
    "        \n",
    "s1 = Student (\"Abhishek\",15)\n",
    "s1.info()\n",
    "s1.age = 24\n",
    "print(s1.__dict__)"
   ]
  },
  {
   "cell_type": "code",
   "execution_count": null,
   "metadata": {},
   "outputs": [],
   "source": []
  },
  {
   "cell_type": "code",
   "execution_count": null,
   "metadata": {},
   "outputs": [],
   "source": []
  },
  {
   "cell_type": "code",
   "execution_count": null,
   "metadata": {},
   "outputs": [],
   "source": []
  },
  {
   "cell_type": "code",
   "execution_count": null,
   "metadata": {},
   "outputs": [],
   "source": []
  }
 ],
 "metadata": {
  "kernelspec": {
   "display_name": "Python 3",
   "language": "python",
   "name": "python3"
  },
  "language_info": {
   "codemirror_mode": {
    "name": "ipython",
    "version": 3
   },
   "file_extension": ".py",
   "mimetype": "text/x-python",
   "name": "python",
   "nbconvert_exporter": "python",
   "pygments_lexer": "ipython3",
   "version": "3.7.6"
  }
 },
 "nbformat": 4,
 "nbformat_minor": 4
}
